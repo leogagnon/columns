{
 "cells": [
  {
   "cell_type": "code",
   "execution_count": 1,
   "id": "d7f8f733",
   "metadata": {},
   "outputs": [],
   "source": [
    "import matplotlib.pyplot as plt"
   ]
  },
  {
   "cell_type": "code",
   "execution_count": 1,
   "id": "9719cdfe",
   "metadata": {},
   "outputs": [],
   "source": [
    "import os\n",
    "import numpy as np\n",
    "import warnings\n",
    "import torch\n",
    "import pytorch_lightning as pl\n",
    "from pl_bolts.datamodules import MNISTDataModule, FashionMNISTDataModule, CIFAR10DataModule, ImagenetDataModule\n",
    "from datamodules import SmallNORBDataModule, CIFAR100DataModule\n",
    "from pytorch_lightning.loggers import WandbLogger\n",
    "\n",
    "#from models import Agglomerator\n",
    "from utils import TwoCropTransform, count_parameters\n",
    "from custom_transforms import Transforms\n",
    "\n",
    "from absl import flags\n",
    "from einops import rearrange, repeat\n",
    "\n",
    "import matplotlib.pyplot as plt\n",
    "from torch import nn, Tensor\n",
    "import math"
   ]
  },
  {
   "cell_type": "code",
   "execution_count": 17,
   "id": "ff5d74ad",
   "metadata": {},
   "outputs": [],
   "source": [
    "asdf = True"
   ]
  },
  {
   "cell_type": "code",
   "execution_count": 2,
   "id": "44a7149c",
   "metadata": {},
   "outputs": [],
   "source": [
    "x = torch.Tensor([[1,2,3],[4,5,6],[7,8,9]])\n",
    "y = torch.Tensor([[1,1,1]])"
   ]
  },
  {
   "cell_type": "code",
   "execution_count": 21,
   "id": "e459a69d",
   "metadata": {},
   "outputs": [
    {
     "name": "stdout",
     "output_type": "stream",
     "text": [
      "Hahaha 1\n"
     ]
    }
   ],
   "source": [
    "print(f'Hahaha {asdf:b}')"
   ]
  },
  {
   "cell_type": "code",
   "execution_count": 12,
   "id": "31198013",
   "metadata": {},
   "outputs": [
    {
     "data": {
      "text/plain": [
       "tensor([[1., 2., 3., 1., 1., 1.],\n",
       "        [4., 5., 6., 1., 1., 1.],\n",
       "        [7., 8., 9., 1., 1., 1.]])"
      ]
     },
     "execution_count": 12,
     "metadata": {},
     "output_type": "execute_result"
    }
   ],
   "source": [
    "torch.cat([x,repeat(y,'b n -> (k b) n', k=3)], dim=1)"
   ]
  },
  {
   "cell_type": "code",
   "execution_count": 2,
   "id": "40c85494",
   "metadata": {},
   "outputs": [],
   "source": [
    "from positional_encodings.torch_encodings import PositionalEncoding2D"
   ]
  },
  {
   "cell_type": "code",
   "execution_count": 3,
   "id": "8755ff0d",
   "metadata": {},
   "outputs": [],
   "source": [
    "from torchvision.transforms import Lambda, Compose, CenterCrop, RandAugment, AutoAugment, AutoAugmentPolicy, RandomCrop, RandomInvert, RandomPosterize, RandomSolarize, RandomResizedCrop, RandomAffine, GaussianBlur, RandomHorizontalFlip, Resize, RandomApply, ColorJitter, RandomGrayscale, RandomPerspective, RandomRotation, ToTensor, Normalize, RandomErasing, CenterCrop"
   ]
  },
  {
   "cell_type": "code",
   "execution_count": 3,
   "id": "00f9c6c0",
   "metadata": {},
   "outputs": [],
   "source": [
    "penc = PositionalEncoding2D(10)"
   ]
  },
  {
   "cell_type": "code",
   "execution_count": 5,
   "id": "bc76f82e",
   "metadata": {},
   "outputs": [],
   "source": [
    "class PositionalEncoding(nn.Module):\n",
    "\n",
    "    def __init__(self, d_model: int, dropout: float = 0.1, max_len: int = 5000):\n",
    "        super().__init__()\n",
    "        self.dropout = nn.Dropout(p=dropout)\n",
    "\n",
    "        position = torch.arange(max_len).unsqueeze(1)\n",
    "        div_term = torch.exp(torch.arange(0, d_model, 2) * (-math.log(10000.0) / d_model))\n",
    "        pe = torch.zeros(max_len, 1, d_model)\n",
    "        pe[:, 0, 0::2] = torch.sin(position * div_term)\n",
    "        pe[:, 0, 1::2] = torch.cos(position * div_term)\n",
    "        self.register_buffer('pe', pe)\n",
    "\n",
    "    def forward(self, x: Tensor) -> Tensor:\n",
    "        \"\"\"\n",
    "        Args:\n",
    "            x: Tensor, shape [seq_len, batch_size, embedding_dim]\n",
    "        \"\"\"\n",
    "        x = x + self.pe[:x.size(0)]\n",
    "        return self.dropout(x)"
   ]
  },
  {
   "cell_type": "code",
   "execution_count": 30,
   "id": "6ea72e87",
   "metadata": {},
   "outputs": [],
   "source": [
    "pe = PositionalEncoding(d_model=10, dropout=0.0)"
   ]
  },
  {
   "cell_type": "code",
   "execution_count": 16,
   "id": "141f319c",
   "metadata": {},
   "outputs": [],
   "source": [
    "asdf = repeat(torch.arange(8), 'd -> b l1 l2 d', l1=5, l2=5, b=1)"
   ]
  },
  {
   "cell_type": "code",
   "execution_count": 18,
   "id": "8d271f08",
   "metadata": {},
   "outputs": [
    {
     "data": {
      "text/plain": [
       "tensor([[[[ 0.0000,  1.0000,  0.0000,  1.0000,  0.0000,  1.0000,  0.0000,\n",
       "            1.0000],\n",
       "          [ 0.0000,  1.0000,  0.0000,  1.0000,  0.0000,  1.0000,  0.8415,\n",
       "            0.5403],\n",
       "          [ 0.0000,  1.0000,  0.0000,  1.0000,  0.0000,  1.0000,  0.9093,\n",
       "           -0.4161],\n",
       "          [ 0.0000,  1.0000,  0.0000,  1.0000,  0.0000,  1.0000,  0.1411,\n",
       "           -0.9900],\n",
       "          [ 0.0000,  1.0000,  0.0000,  1.0000,  0.0000,  1.0000, -0.7568,\n",
       "           -0.6536]],\n",
       "\n",
       "         [[ 0.8415,  0.5403,  0.0464,  0.9989,  0.0022,  1.0000,  0.0000,\n",
       "            1.0000],\n",
       "          [ 0.8415,  0.5403,  0.0464,  0.9989,  0.0022,  1.0000,  0.8415,\n",
       "            0.5403],\n",
       "          [ 0.8415,  0.5403,  0.0464,  0.9989,  0.0022,  1.0000,  0.9093,\n",
       "           -0.4161],\n",
       "          [ 0.8415,  0.5403,  0.0464,  0.9989,  0.0022,  1.0000,  0.1411,\n",
       "           -0.9900],\n",
       "          [ 0.8415,  0.5403,  0.0464,  0.9989,  0.0022,  1.0000, -0.7568,\n",
       "           -0.6536]],\n",
       "\n",
       "         [[ 0.9093, -0.4161,  0.0927,  0.9957,  0.0043,  1.0000,  0.0000,\n",
       "            1.0000],\n",
       "          [ 0.9093, -0.4161,  0.0927,  0.9957,  0.0043,  1.0000,  0.8415,\n",
       "            0.5403],\n",
       "          [ 0.9093, -0.4161,  0.0927,  0.9957,  0.0043,  1.0000,  0.9093,\n",
       "           -0.4161],\n",
       "          [ 0.9093, -0.4161,  0.0927,  0.9957,  0.0043,  1.0000,  0.1411,\n",
       "           -0.9900],\n",
       "          [ 0.9093, -0.4161,  0.0927,  0.9957,  0.0043,  1.0000, -0.7568,\n",
       "           -0.6536]],\n",
       "\n",
       "         [[ 0.1411, -0.9900,  0.1388,  0.9903,  0.0065,  1.0000,  0.0000,\n",
       "            1.0000],\n",
       "          [ 0.1411, -0.9900,  0.1388,  0.9903,  0.0065,  1.0000,  0.8415,\n",
       "            0.5403],\n",
       "          [ 0.1411, -0.9900,  0.1388,  0.9903,  0.0065,  1.0000,  0.9093,\n",
       "           -0.4161],\n",
       "          [ 0.1411, -0.9900,  0.1388,  0.9903,  0.0065,  1.0000,  0.1411,\n",
       "           -0.9900],\n",
       "          [ 0.1411, -0.9900,  0.1388,  0.9903,  0.0065,  1.0000, -0.7568,\n",
       "           -0.6536]],\n",
       "\n",
       "         [[-0.7568, -0.6536,  0.1846,  0.9828,  0.0086,  1.0000,  0.0000,\n",
       "            1.0000],\n",
       "          [-0.7568, -0.6536,  0.1846,  0.9828,  0.0086,  1.0000,  0.8415,\n",
       "            0.5403],\n",
       "          [-0.7568, -0.6536,  0.1846,  0.9828,  0.0086,  1.0000,  0.9093,\n",
       "           -0.4161],\n",
       "          [-0.7568, -0.6536,  0.1846,  0.9828,  0.0086,  1.0000,  0.1411,\n",
       "           -0.9900],\n",
       "          [-0.7568, -0.6536,  0.1846,  0.9828,  0.0086,  1.0000, -0.7568,\n",
       "           -0.6536]]]])"
      ]
     },
     "execution_count": 18,
     "metadata": {},
     "output_type": "execute_result"
    }
   ],
   "source": [
    "penc(asdf)"
   ]
  },
  {
   "cell_type": "code",
   "execution_count": 4,
   "id": "69947a95",
   "metadata": {},
   "outputs": [],
   "source": [
    "class GaussianNoise(object):\n",
    "    def __init__(self, mean=0., std=1.):\n",
    "        self.std = std\n",
    "        self.mean = mean\n",
    "        \n",
    "    def __call__(self, tensor):\n",
    "        return tensor + torch.randn(tensor.size()) * self.std + self.mean\n",
    "    \n",
    "    def __repr__(self):\n",
    "        return self.__class__.__name__ + '(mean={0}, std={1})'.format(self.mean, self.std)"
   ]
  },
  {
   "cell_type": "code",
   "execution_count": 5,
   "id": "6438573c",
   "metadata": {},
   "outputs": [],
   "source": [
    "class DenoisingTransform:\n",
    "    \"\"\"Creates a pair of clear-corrupted image\"\"\"\n",
    "    def __init__(self, base_transform, corrupt_transform):\n",
    "        self.base = base_transform\n",
    "        self.corrupt = corrupt_transform\n",
    "\n",
    "    def __call__(self, x):\n",
    "        x = self.base(x)\n",
    "        return [x, self.corrupt(x)]"
   ]
  },
  {
   "cell_type": "code",
   "execution_count": 18,
   "id": "ce3573df",
   "metadata": {},
   "outputs": [],
   "source": [
    "base=Compose([RandAugment(), ToTensor(),Normalize((0.5,), (0.5,))])\n",
    "corrupt=Compose([GaussianNoise(mean=0.,std=0.1), RandomPatchErasing(patch_size=4, p=0.3)])\n",
    "transform = DenoisingTransform(base, corrupt)"
   ]
  },
  {
   "cell_type": "code",
   "execution_count": 19,
   "id": "68fbf482",
   "metadata": {},
   "outputs": [
    {
     "name": "stderr",
     "output_type": "stream",
     "text": [
      "/home/leko/.local/lib/python3.10/site-packages/pytorch_lightning/core/datamodule.py:95: LightningDeprecationWarning: DataModule property `train_transforms` was deprecated in v1.5 and will be removed in v1.7.\n",
      "  rank_zero_deprecation(\n",
      "/home/leko/.local/lib/python3.10/site-packages/pytorch_lightning/core/datamodule.py:88: LightningDeprecationWarning: DataModule property `train_transforms` was deprecated in v1.5 and will be removed in v1.7.\n",
      "  rank_zero_deprecation(\n",
      "/home/leko/.local/lib/python3.10/site-packages/pytorch_lightning/core/datamodule.py:107: LightningDeprecationWarning: DataModule property `val_transforms` was deprecated in v1.5 and will be removed in v1.7.\n",
      "  rank_zero_deprecation(\n",
      "/home/leko/.local/lib/python3.10/site-packages/pytorch_lightning/core/datamodule.py:126: LightningDeprecationWarning: DataModule property `test_transforms` was deprecated in v1.5 and will be removed in v1.7.\n",
      "  rank_zero_deprecation(\n"
     ]
    }
   ],
   "source": [
    "dm = MNISTDataModule('./datasets', batch_size=100, shuffle=True, pin_memory=True, drop_last=True)\n",
    "dm.train_transforms = transform\n",
    "dm.setup()\n",
    "l = dm.train_dataloader()\n",
    "img = next(iter(l))"
   ]
  },
  {
   "cell_type": "code",
   "execution_count": 22,
   "id": "f993b849",
   "metadata": {},
   "outputs": [
    {
     "data": {
      "text/plain": [
       "<matplotlib.image.AxesImage at 0x7f29c49a7be0>"
      ]
     },
     "execution_count": 22,
     "metadata": {},
     "output_type": "execute_result"
    },
    {
     "data": {
      "image/png": "[encoded data removed]",
      "text/plain": [
       "<Figure size 432x288 with 2 Axes>"
      ]
     },
     "metadata": {
      "needs_background": "light"
     },
     "output_type": "display_data"
    }
   ],
   "source": [
    "img = next(iter(l))\n",
    "fig, arr = plt.subplots(2,1)\n",
    "\n",
    "arr[0].imshow(img[0][0][81].squeeze())\n",
    "arr[1].imshow(img[0][1][81].squeeze())"
   ]
  },
  {
   "cell_type": "code",
   "execution_count": 3,
   "id": "3043576e",
   "metadata": {},
   "outputs": [],
   "source": [
    "x = torch.Tensor([1,2,3,4])"
   ]
  },
  {
   "cell_type": "code",
   "execution_count": 4,
   "id": "46675f6a",
   "metadata": {},
   "outputs": [
    {
     "data": {
      "text/plain": [
       "tensor([1., 2., 3., 4., 1., 2., 3., 4.])"
      ]
     },
     "execution_count": 4,
     "metadata": {},
     "output_type": "execute_result"
    }
   ],
   "source": [
    "torch.cat([x,x])"
   ]
  },
  {
   "cell_type": "code",
   "execution_count": 87,
   "id": "4ccc1b7e",
   "metadata": {},
   "outputs": [],
   "source": [
    "a=torch.stack([torch.arange(8), torch.arange(8)])"
   ]
  },
  {
   "cell_type": "code",
   "execution_count": 107,
   "id": "c5ea3580",
   "metadata": {
    "scrolled": true
   },
   "outputs": [],
   "source": [
    "a=torch.Tensor([[1,0],[0,1]])\n",
    "b=torch.ones((3,2,2))"
   ]
  },
  {
   "cell_type": "code",
   "execution_count": 124,
   "id": "5c96631c",
   "metadata": {},
   "outputs": [
    {
     "data": {
      "text/plain": [
       "tensor([[[ True,  True, False, False],\n",
       "         [ True,  True, False, False],\n",
       "         [False, False,  True,  True],\n",
       "         [False, False,  True,  True]],\n",
       "\n",
       "        [[ True,  True, False, False],\n",
       "         [ True,  True, False, False],\n",
       "         [False, False,  True,  True],\n",
       "         [False, False,  True,  True]],\n",
       "\n",
       "        [[ True,  True, False, False],\n",
       "         [ True,  True, False, False],\n",
       "         [False, False,  True,  True],\n",
       "         [False, False,  True,  True]]])"
      ]
     },
     "execution_count": 124,
     "metadata": {},
     "output_type": "execute_result"
    }
   ],
   "source": [
    "c=torch.kron(a,b).bool()\n",
    "c"
   ]
  },
  {
   "cell_type": "code",
   "execution_count": 113,
   "id": "5e8ff545",
   "metadata": {},
   "outputs": [],
   "source": [
    "xd = torch.full((3,4,4),5)"
   ]
  },
  {
   "cell_type": "code",
   "execution_count": 126,
   "id": "b1e18829",
   "metadata": {},
   "outputs": [],
   "source": [
    "xd[c]=0"
   ]
  },
  {
   "cell_type": "code",
   "execution_count": 127,
   "id": "654f28b5",
   "metadata": {},
   "outputs": [
    {
     "data": {
      "text/plain": [
       "tensor([[[0, 0, 5, 5],\n",
       "         [0, 0, 5, 5],\n",
       "         [5, 5, 0, 0],\n",
       "         [5, 5, 0, 0]],\n",
       "\n",
       "        [[0, 0, 5, 5],\n",
       "         [0, 0, 5, 5],\n",
       "         [5, 5, 0, 0],\n",
       "         [5, 5, 0, 0]],\n",
       "\n",
       "        [[0, 0, 5, 5],\n",
       "         [0, 0, 5, 5],\n",
       "         [5, 5, 0, 0],\n",
       "         [5, 5, 0, 0]]])"
      ]
     },
     "execution_count": 127,
     "metadata": {},
     "output_type": "execute_result"
    }
   ],
   "source": [
    "xd"
   ]
  },
  {
   "cell_type": "code",
   "execution_count": 7,
   "id": "11d578f2",
   "metadata": {},
   "outputs": [],
   "source": [
    "class RandomPatchErasing(torch.nn.Module):\n",
    "\n",
    "    def __init__(self, patch_size, p=0.5, value=0, inplace=False):\n",
    "        super().__init__()\n",
    "        self.patch_size = patch_size\n",
    "        self.p = p\n",
    "        self.value = value\n",
    "        self.inplace = inplace\n",
    "\n",
    "    def forward(self, img):\n",
    "        \"\"\"\n",
    "        Args:\n",
    "            img (Tensor): Tensor image to be erased.\n",
    "\n",
    "        Returns:\n",
    "            img (Tensor): Erased Tensor image.\n",
    "        \"\"\"\n",
    "        c, h, w = img.shape\n",
    "        num_patch_side = h // self.patch_size\n",
    "        num_patch = num_patch_side ** 2\n",
    "        num_masked = int(self.p * num_patch)\n",
    "\n",
    "        # Compute which patch to mask\n",
    "        masked = torch.cat([torch.ones(num_masked), torch.zeros(num_patch-num_masked)])[torch.randperm(num_patch)]\n",
    "        masked = masked.view((num_patch_side,num_patch_side))\n",
    "        patch_mask = torch.ones((c, self.patch_size, self.patch_size))\n",
    "\n",
    "        # Kronecker product to produce mask\n",
    "        mask = torch.kron(masked, patch_mask).bool()\n",
    "\n",
    "        # Apply mask\n",
    "        img[mask] = self.value\n",
    "\n",
    "        return img"
   ]
  },
  {
   "cell_type": "code",
   "execution_count": 28,
   "id": "e04a64ad",
   "metadata": {},
   "outputs": [
    {
     "data": {
      "text/plain": [
       "<matplotlib.image.AxesImage at 0x7f92369b4220>"
      ]
     },
     "execution_count": 28,
     "metadata": {},
     "output_type": "execute_result"
    },
    {
     "data": {
      "image/png": "[encoded data removed]",
      "text/plain": [
       "<Figure size 288x288 with 1 Axes>"
      ]
     },
     "metadata": {
      "needs_background": "light"
     },
     "output_type": "display_data"
    }
   ],
   "source": [
    "plt.matshow(kmeans.labels_.reshape((7,7)))"
   ]
  },
  {
   "cell_type": "code",
   "execution_count": 26,
   "id": "b7106bbe",
   "metadata": {},
   "outputs": [
    {
     "data": {
      "text/plain": [
       "<matplotlib.collections.PathCollection at 0x7f91e89522c0>"
      ]
     },
     "execution_count": 26,
     "metadata": {},
     "output_type": "execute_result"
    },
    {
     "data": {
      "image/png": "[encoded data removed]",
      "text/plain": [
       "<Figure size 432x288 with 1 Axes>"
      ]
     },
     "metadata": {
      "needs_background": "light"
     },
     "output_type": "display_data"
    }
   ],
   "source": [
    "plt.scatter(tsne_results[:,0],tsne_results[:,1])"
   ]
  },
  {
   "cell_type": "code",
   "execution_count": 23,
   "id": "1d8b8303",
   "metadata": {},
   "outputs": [],
   "source": [
    "from scipy.spatial import distance_matrix"
   ]
  },
  {
   "cell_type": "code",
   "execution_count": 26,
   "id": "705d57a1",
   "metadata": {},
   "outputs": [
    {
     "data": {
      "text/plain": [
       "<matplotlib.colorbar.Colorbar at 0x7f923643fca0>"
      ]
     },
     "execution_count": 26,
     "metadata": {},
     "output_type": "execute_result"
    },
    {
     "data": {
      "image/png": "[encoded data removed]",
      "text/plain": [
       "<Figure size 432x288 with 2 Axes>"
      ]
     },
     "metadata": {
      "needs_background": "light"
     },
     "output_type": "display_data"
    }
   ],
   "source": [
    "fig = plt.figure()\n",
    "ax = fig.add_subplot(111)\n",
    "cax = ax.matshow(distance_matrix(a,a), interpolation='nearest')\n",
    "fig.colorbar(cax)"
   ]
  },
  {
   "cell_type": "code",
   "execution_count": 25,
   "id": "cf1ee8d6",
   "metadata": {},
   "outputs": [
    {
     "data": {
      "text/plain": [
       "array([[    0.        ,  9754.51596038, 22340.84427739, ...,\n",
       "        10848.63006656, 10019.91302593, 22918.29498314],\n",
       "       [ 9754.51596038,     0.        , 30470.75479518, ...,\n",
       "        17569.18983199,  5697.39436438, 26266.72014298],\n",
       "       [22340.84427739, 30470.75479518,     0.        , ...,\n",
       "        18435.94185885, 31633.27436665, 18316.28895424],\n",
       "       ...,\n",
       "       [10848.63006656, 17569.18983199, 18435.94185885, ...,\n",
       "            0.        , 16489.61972568, 20963.56472503],\n",
       "       [10019.91302593,  5697.39436438, 31633.27436665, ...,\n",
       "        16489.61972568,     0.        , 28598.96377594],\n",
       "       [22918.29498314, 26266.72014298, 18316.28895424, ...,\n",
       "        20963.56472503, 28598.96377594,     0.        ]])"
      ]
     },
     "execution_count": 25,
     "metadata": {},
     "output_type": "execute_result"
    }
   ],
   "source": [
    "distance_matrix(a,a)"
   ]
  },
  {
   "cell_type": "code",
   "execution_count": 33,
   "id": "2f6f9900",
   "metadata": {},
   "outputs": [],
   "source": [
    "s = 0\n",
    "for i in range(len(d)):\n",
    "    for j in range(i):\n",
    "        s += d[i,j]\n",
    "        \n",
    "s = s/(len(d)**2-len(d))"
   ]
  },
  {
   "cell_type": "code",
   "execution_count": 34,
   "id": "7e5dafe0",
   "metadata": {},
   "outputs": [
    {
     "data": {
      "text/plain": [
       "11479.623587946966"
      ]
     },
     "execution_count": 34,
     "metadata": {},
     "output_type": "execute_result"
    }
   ],
   "source": [
    "s"
   ]
  },
  {
   "cell_type": "code",
   "execution_count": null,
   "id": "432d06ad",
   "metadata": {},
   "outputs": [],
   "source": []
  }
 ],
 "metadata": {
  "kernelspec": {
   "display_name": "Python 3.10.6 ('venv')",
   "language": "python",
   "name": "python3"
  },
  "language_info": {
   "codemirror_mode": {
    "name": "ipython",
    "version": 3
   },
   "file_extension": ".py",
   "mimetype": "text/x-python",
   "name": "python",
   "nbconvert_exporter": "python",
   "pygments_lexer": "ipython3",
   "version": "3.10.6"
  },
  "vscode": {
   "interpreter": {
    "hash": "d761e3a0f7fc21803c280785a220281313f25080617b8e152d41e4dc5468b1a1"
   }
  }
 },
 "nbformat": 4,
 "nbformat_minor": 5
}
