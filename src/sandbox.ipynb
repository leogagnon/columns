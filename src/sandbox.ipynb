{
 "cells": [
  {
   "cell_type": "code",
   "execution_count": 67,
   "id": "9719cdfe",
   "metadata": {},
   "outputs": [],
   "source": [
    "import torch\n",
    "from models import GLOM\n",
    "from datamodules import MNISTDataset\n",
    "import matplotlib.pyplot as plt\n",
    "import yaml\n",
    "from einops import repeat\n",
    "import numpy as np"
   ]
  },
  {
   "cell_type": "markdown",
   "id": "70fade46",
   "metadata": {},
   "source": [
    "# Load a batch of images and a model"
   ]
  },
  {
   "cell_type": "code",
   "execution_count": 23,
   "id": "771a4166",
   "metadata": {},
   "outputs": [],
   "source": [
    "# Get dataloader\n",
    "dm = MNISTDataset(data_dir='datasets', batch_size=32)\n",
    "dm.setup(stage='test')\n",
    "dataloader = dm.test_dataloader()"
   ]
  },
  {
   "cell_type": "code",
   "execution_count": 24,
   "id": "81f3f275",
   "metadata": {},
   "outputs": [],
   "source": [
    "clean, corrupt = next(iter(dataloader))[0]"
   ]
  },
  {
   "cell_type": "code",
   "execution_count": 25,
   "id": "73b58ce9",
   "metadata": {},
   "outputs": [],
   "source": [
    "with open(\"default_config.yaml\", 'r') as stream:\n",
    "    config = yaml.safe_load(stream)['model']\n",
    "\n",
    "config['latent_reconstruction'] = False\n",
    "\n",
    "glom = GLOM(**config)\n",
    "glom.load_from_checkpoint('model_nolatent');"
   ]
  },
  {
   "cell_type": "code",
   "execution_count": 34,
   "id": "f3978c33",
   "metadata": {},
   "outputs": [],
   "source": [
    "embedding = glom.encoder(corrupt)\n",
    "state = repeat(glom.init_column, 'l d -> b n l d', b=embedding.shape[0], n=embedding.shape[1])\n",
    "\n",
    "for _ in range(5):\n",
    "    state, reconstruction, (bu, td, lat) = glom.forward(embedding, state)"
   ]
  },
  {
   "cell_type": "code",
   "execution_count": 35,
   "id": "be068535",
   "metadata": {},
   "outputs": [],
   "source": [
    "out = glom.decoder(reconstruction)"
   ]
  },
  {
   "cell_type": "code",
   "execution_count": 37,
   "id": "893fe4a2",
   "metadata": {},
   "outputs": [
    {
     "data": {
      "text/plain": [
       "tensor(1.4873, grad_fn=<MseLossBackward0>)"
      ]
     },
     "execution_count": 37,
     "metadata": {},
     "output_type": "execute_result"
    }
   ],
   "source": [
    "from torch.nn.functional import mse_loss\n",
    "\n",
    "mse_loss(out[0],clean[0])"
   ]
  },
  {
   "cell_type": "code",
   "execution_count": 38,
   "id": "b65cc2a0",
   "metadata": {},
   "outputs": [
    {
     "data": {
      "text/plain": [
       "torch.Size([32, 1, 28, 28])"
      ]
     },
     "execution_count": 38,
     "metadata": {},
     "output_type": "execute_result"
    }
   ],
   "source": [
    "out.shape"
   ]
  },
  {
   "cell_type": "code",
   "execution_count": 77,
   "id": "94d61375",
   "metadata": {},
   "outputs": [
    {
     "data": {
      "image/png": "[encoded data removed]",
      "text/plain": [
       "<Figure size 640x480 with 1 Axes>"
      ]
     },
     "metadata": {},
     "output_type": "display_data"
    }
   ],
   "source": [
    "show_image(out[0])"
   ]
  },
  {
   "cell_type": "code",
   "execution_count": 20,
   "id": "827dfd2a",
   "metadata": {},
   "outputs": [
    {
     "data": {
      "text/plain": [
       "tensor([[ 9.9073e-02,  6.0271e-02,  2.4850e-01,  3.6581e-01, -4.6550e-02,\n",
       "          2.1211e-01,  2.3714e-01,  1.9334e-01,  4.3016e-02,  1.9755e-02,\n",
       "          2.5984e-02,  8.6612e-02,  8.9737e-02,  3.1466e-02,  1.0767e-01,\n",
       "          1.9791e-01,  3.2153e-01,  3.5330e-02,  2.3995e-01,  6.7798e-02,\n",
       "         -3.8075e-02,  7.1583e-02,  2.7815e-02,  1.6285e-01,  1.5832e-01,\n",
       "          1.4649e-01, -4.2888e-02,  1.7596e-01],\n",
       "        [ 1.1484e-01,  3.8208e-01, -4.2516e-02, -1.6489e-01,  4.0639e-01,\n",
       "          6.5620e-02, -3.0431e-01, -1.3195e-01,  1.4000e-02,  2.0812e-02,\n",
       "          3.1971e-01, -3.3005e-01, -9.0817e-02,  1.7650e-01, -2.0586e-01,\n",
       "          1.5116e-01, -1.8778e-01,  3.7852e-01, -9.3111e-02,  4.7302e-03,\n",
       "          6.3962e-01,  3.3106e-01,  3.7447e-01, -3.6491e-01, -9.1914e-02,\n",
       "         -1.0994e-01,  3.3649e-01,  1.2686e-01],\n",
       "        [ 6.5439e-02,  5.8752e-01,  2.7379e-01,  3.0682e-02,  1.8301e-01,\n",
       "          2.8309e-01, -4.0853e-01,  3.3413e-01, -3.6258e-02,  4.7743e-01,\n",
       "         -1.6887e-01,  7.8347e-02, -4.0999e-01,  1.5557e-01,  6.1531e-01,\n",
       "         -5.0630e-02, -2.0462e-01,  4.5842e-01, -4.0179e-01,  1.3683e-01,\n",
       "          3.0674e-01,  8.0898e-02, -1.8196e-01,  2.3709e-03, -1.4004e-01,\n",
       "          1.5781e-01, -4.3983e-03, -1.2774e-01],\n",
       "        [ 2.3106e-02, -2.6448e-01, -4.4907e-01,  1.3537e-01, -1.5978e-01,\n",
       "         -1.0997e-01, -1.4863e-01,  3.9401e-02,  1.0977e-01, -4.5209e-01,\n",
       "          4.0363e-01,  3.2351e-01, -5.6483e-01, -3.5654e-01,  1.8034e-01,\n",
       "          2.7661e-01,  6.1790e-01,  1.4401e-01,  6.3794e-01, -1.0035e-01,\n",
       "         -1.0758e-01, -1.2640e-01, -1.3126e-01,  2.9862e-01,  1.2357e-01,\n",
       "          1.7077e-02, -4.0439e-02,  6.2859e-02],\n",
       "        [-6.4253e-02,  9.2625e-03,  6.0665e-03,  4.0776e-01,  1.3750e-02,\n",
       "         -1.1237e-01,  2.7773e-01,  4.1505e-02, -1.5057e-01,  1.8350e-01,\n",
       "          1.3943e-01,  1.1621e-01,  1.7830e-01,  2.3672e-01,  2.4487e-01,\n",
       "          2.3917e-01, -6.1646e-01, -6.5926e-01, -6.1682e-03,  3.4832e-01,\n",
       "          4.2019e-01,  4.9730e-01,  4.1545e-01,  2.1705e-01, -2.3357e-01,\n",
       "         -9.3441e-02, -2.7474e-02, -1.7431e-02],\n",
       "        [-1.6549e-01,  3.3875e-02,  3.7244e-02,  2.1323e-01,  2.7741e-01,\n",
       "          2.3939e-01, -1.3745e-01, -1.0715e-01, -4.8441e-01, -2.8012e-01,\n",
       "          1.5031e-01,  9.8070e-02,  2.2419e-01,  9.2444e-02,  2.5966e-01,\n",
       "         -4.4624e-01,  2.0802e-01, -1.3389e-01,  2.2343e-01,  5.1903e-01,\n",
       "         -6.2440e-02,  1.7791e-01, -4.3333e-01,  9.8687e-02,  5.9164e-01,\n",
       "          2.1359e-01,  1.1216e-01,  7.2925e-02],\n",
       "        [ 8.8767e-02,  5.1884e-01, -9.7491e-02, -1.7624e-01,  1.0731e-01,\n",
       "          8.5793e-01, -3.2751e-01,  2.3371e-01,  4.8338e-01,  4.3790e-03,\n",
       "         -4.2190e-01, -8.0635e-01, -3.6291e-02,  7.2638e-01, -5.1994e-01,\n",
       "         -2.0017e-01, -8.3761e-01,  8.9949e-01,  3.6619e-01,  9.1310e-02,\n",
       "         -2.0121e-01,  8.5032e-01, -3.6565e-01,  3.4281e-02,  2.6129e-01,\n",
       "          1.5701e-01,  8.0895e-02, -8.7088e-02],\n",
       "        [ 9.7499e-02, -1.6587e-01, -5.3137e-01, -1.7209e-01, -4.3694e-01,\n",
       "          5.4590e-02, -8.0311e-01,  1.6699e-01, -2.7518e-01, -4.1000e-01,\n",
       "         -5.8535e-01,  4.5853e-01, -5.5269e-01, -7.9448e-01, -1.5995e-01,\n",
       "          1.8645e-01, -1.2219e+00,  2.9798e-01, -7.1973e-01,  2.6006e-01,\n",
       "         -5.0453e-02, -9.4072e-02, -3.3230e-01,  4.7295e-01, -2.1813e-01,\n",
       "         -4.8166e-01,  2.9070e-01,  2.5436e-01],\n",
       "        [ 1.8343e-01,  3.3537e-01,  2.8359e-02,  1.7020e-01, -4.7597e-02,\n",
       "         -1.0882e-01,  3.1167e-02, -2.0438e-01, -3.5080e-02, -2.7885e-01,\n",
       "         -1.9800e-01,  2.0807e-01,  1.5232e-01, -9.1328e-02, -3.4252e-03,\n",
       "          2.0643e-01,  4.2988e-01, -1.1048e-01,  2.7980e-01,  3.1049e-01,\n",
       "         -6.3917e-01, -4.0013e-02,  7.1866e-02,  4.4977e-01, -3.7472e-01,\n",
       "         -7.6200e-02,  5.4370e-01,  9.5842e-02],\n",
       "        [-1.8214e-02,  3.0431e-01,  1.7683e-01,  1.1010e-01,  8.2874e-02,\n",
       "          8.2319e-02,  3.6230e-01,  2.2173e-01,  5.2217e-01,  5.9153e-01,\n",
       "          1.8705e-01, -8.5086e-02, -2.7309e-01,  1.9533e-02, -2.0516e-01,\n",
       "         -4.5019e-03,  5.8638e-01,  4.0282e-01,  4.9388e-01, -2.6329e-01,\n",
       "          8.5979e-02,  3.2824e-01, -3.3518e-02, -1.2504e-01, -3.1512e-01,\n",
       "          1.4877e-01, -4.1332e-01,  1.3886e-01],\n",
       "        [-6.8414e-02,  4.5095e-01, -1.6387e-01,  1.3787e-01,  2.4682e-01,\n",
       "          3.0107e-01, -3.7315e-02, -1.8751e-01,  3.0669e-01,  7.0565e-01,\n",
       "         -2.5042e-02, -2.6193e-01, -4.7579e-01,  6.5667e-01, -6.6161e-01,\n",
       "         -9.9537e-01,  2.6813e-01,  1.0598e+00, -3.0888e-02, -7.6064e-02,\n",
       "         -1.4582e-01,  3.8297e-01,  1.0562e-01, -7.5179e-01, -7.7316e-01,\n",
       "          4.4511e-01, -3.5623e-01, -4.2377e-02],\n",
       "        [-3.3102e-02, -2.2464e-03, -4.4654e-01,  2.2442e-02, -4.9078e-02,\n",
       "         -9.4443e-02, -2.8248e-02,  1.4181e-01,  4.9060e-01, -7.9181e-02,\n",
       "          2.8777e-02,  6.1164e-01,  6.6528e-03, -8.1802e-01, -2.4744e-01,\n",
       "          2.8928e-01, -7.6459e-01, -4.1187e-01, -5.9373e-01,  5.9097e-01,\n",
       "         -9.3591e-01, -7.2456e-01, -3.6331e-01,  2.7663e-01,  9.5702e-02,\n",
       "         -2.6476e-01,  2.7241e-01,  8.9126e-02],\n",
       "        [ 2.3549e-01,  5.7718e-02,  1.5731e-01,  3.1515e-01,  1.7302e-01,\n",
       "          3.2791e-01, -3.3264e-03,  5.4041e-01,  1.5083e-01,  1.1246e-01,\n",
       "          4.4743e-01,  3.9298e-01, -3.2870e-01,  3.0562e-02,  3.5432e-01,\n",
       "          7.7326e-02, -8.6781e-02,  4.4371e-01,  5.1203e-01,  4.1567e-01,\n",
       "          4.0185e-02, -7.0026e-02,  8.2513e-01,  9.8252e-01, -8.5993e-01,\n",
       "         -4.7146e-02,  6.7066e-02, -8.3261e-02],\n",
       "        [-1.0008e-01, -2.4719e-01,  2.4133e-01,  3.7364e-01,  2.2498e-01,\n",
       "         -2.4508e-01,  4.8813e-01, -4.0938e-01,  3.2923e-01,  3.7780e-01,\n",
       "          2.9073e-02, -5.0148e-01, -2.8784e-01, -4.2173e-01,  2.0215e-01,\n",
       "         -2.8425e-01,  1.1978e-01,  3.9785e-01,  6.2791e-02,  4.1198e-01,\n",
       "         -4.4219e-02,  2.5826e-01, -2.0067e-01,  4.5006e-01,  3.7305e-01,\n",
       "         -1.2042e-01,  7.8823e-02,  2.9033e-02],\n",
       "        [ 1.6720e-01,  3.2016e-01, -4.7776e-02,  1.2719e-01, -3.0782e-01,\n",
       "          7.0254e-01,  8.7749e-02, -5.2167e-01, -4.0890e-01,  8.1212e-01,\n",
       "         -3.9140e-01,  2.3382e-01, -9.7883e-01,  8.2573e-01, -3.9599e-01,\n",
       "          2.1120e-01,  1.3480e-01,  1.9848e-01, -7.5648e-01, -1.2709e-01,\n",
       "          2.0298e-01,  7.9903e-01, -1.9438e-02, -6.8389e-01,  2.0923e-01,\n",
       "          1.2777e+00, -5.5821e-02, -3.7762e-02],\n",
       "        [ 1.1518e-01,  1.8830e-01, -5.5678e-01,  4.8674e-01, -4.4815e-01,\n",
       "         -1.0409e-01, -1.2613e+00,  5.4790e-02, -1.0219e+00, -4.9057e-01,\n",
       "          5.4246e-01,  1.6863e-01, -4.0441e-01,  2.1393e-01, -4.7315e-01,\n",
       "         -2.8294e-01, -7.7397e-01, -5.4898e-01, -1.0413e-01,  6.7200e-02,\n",
       "         -1.3812e-01, -3.6584e-02, -3.1519e-01, -2.9998e-02,  3.9971e-01,\n",
       "         -3.2188e-01, -2.1986e-01,  2.3177e-01],\n",
       "        [ 2.9227e-01, -5.7708e-01, -2.1278e-01,  5.7869e-01,  5.1397e-01,\n",
       "         -3.2985e-01,  2.6308e-01,  1.9101e-01,  3.1411e-01,  6.0221e-01,\n",
       "          3.7455e-01,  4.4957e-01, -4.8533e-01,  1.6594e-01, -1.9252e-01,\n",
       "         -5.4861e-04, -1.0652e-01, -1.3220e-01,  2.4264e-01, -2.7792e-01,\n",
       "          3.0605e-02, -3.4027e-01,  1.2376e-02,  2.6906e-01, -1.9464e-01,\n",
       "         -9.2619e-02, -2.1762e-01,  1.3247e-01],\n",
       "        [-4.6183e-02,  3.1700e-02, -1.7958e-02,  1.7321e-02,  2.5699e-01,\n",
       "          3.7152e-01,  5.7922e-01,  1.6767e-01,  1.9803e-01,  5.2844e-01,\n",
       "         -3.5767e-01,  3.3734e-01, -1.5699e-01,  2.4432e-01, -2.5456e-01,\n",
       "         -6.7995e-02,  4.2755e-01,  3.8487e-01, -3.4276e-01,  3.1636e-02,\n",
       "         -1.0966e-01,  6.0412e-01, -4.0116e-01,  2.1989e-01,  5.1324e-01,\n",
       "          2.0081e-01,  8.3952e-02, -1.4757e-01],\n",
       "        [ 8.3163e-02,  3.6705e-01, -2.6615e-02, -1.9111e-01, -6.4801e-02,\n",
       "          7.1416e-01,  2.5530e-01, -2.0807e-01,  2.0863e-01,  3.5415e-01,\n",
       "         -5.1034e-01,  1.2818e-01, -3.1592e-01,  8.0202e-01,  3.8515e-02,\n",
       "         -5.4022e-01, -4.2472e-01, -2.8026e-02,  1.1195e-01,  1.6430e-01,\n",
       "         -8.5534e-02, -1.4784e-01,  6.5464e-02,  3.0875e-01,  9.9855e-02,\n",
       "          5.4660e-01, -1.1994e-02,  3.6529e-01],\n",
       "        [ 2.6076e-01,  2.6976e-01, -2.9506e-01, -1.0331e-01,  1.5571e-01,\n",
       "         -8.9235e-02, -4.4974e-01, -6.2593e-02, -5.8003e-01, -3.2345e-01,\n",
       "         -2.5490e-01,  6.8429e-01,  4.5600e-02, -4.3254e-01,  1.1941e-01,\n",
       "          3.0670e-01,  2.2124e-01, -4.8522e-01,  8.0639e-02,  3.3683e-02,\n",
       "         -8.0579e-02,  1.8248e-01,  4.0285e-01,  1.5143e-01, -1.5378e-01,\n",
       "          1.0205e-02, -3.8185e-01,  2.8395e-01],\n",
       "        [-4.1450e-02,  1.7675e-01,  2.7095e-01,  5.3457e-01,  6.5284e-01,\n",
       "         -8.6480e-01, -3.4693e-01,  3.6440e-01, -2.8581e-02, -2.3638e-01,\n",
       "          5.9645e-01, -7.8120e-02, -3.6159e-01,  2.2207e-01,  3.1290e-01,\n",
       "          6.3618e-01, -2.2524e-01,  3.1812e-01,  1.1952e-01,  2.5831e-01,\n",
       "          2.9186e-02, -2.9082e-01,  2.9080e-01,  7.3047e-02,  2.3192e-01,\n",
       "         -2.8643e-01,  6.6481e-02, -2.0792e-01],\n",
       "        [ 1.8090e-01, -3.4717e-01,  6.7606e-02, -1.4232e-01,  3.5110e-01,\n",
       "          8.7772e-01, -5.9453e-01, -1.1045e-01, -2.3863e-01,  3.0077e-01,\n",
       "         -3.2368e-01,  9.8047e-02,  1.6623e-01,  3.5890e-02, -1.0557e-01,\n",
       "         -6.0521e-02,  1.5872e-01,  2.6607e-01, -1.8551e-01,  1.2818e-01,\n",
       "          1.1196e-01,  3.1664e-01, -2.4389e-01, -2.3503e-01,  1.9249e-01,\n",
       "          3.4938e-01, -4.3485e-02, -8.7643e-02],\n",
       "        [ 7.8804e-02,  1.2541e-02,  1.6429e-01, -4.9996e-01, -1.0529e-01,\n",
       "          8.0829e-01,  5.5377e-02,  2.6099e-01, -3.3852e-01,  8.7143e-01,\n",
       "         -2.3458e-01, -6.0193e-02,  8.0092e-01,  8.9382e-01, -7.7132e-01,\n",
       "          5.9978e-01,  2.6152e-01,  1.3016e-01, -3.4555e-01,  1.4452e-01,\n",
       "          1.9793e-01,  3.1143e-01, -2.7280e-01, -2.1490e-01, -8.7921e-02,\n",
       "          2.7709e-01, -1.3703e-02,  7.7738e-02],\n",
       "        [-1.2909e-01, -2.1101e-01, -3.4119e-01,  8.0215e-02, -4.1980e-01,\n",
       "          6.6271e-03, -2.6025e-01, -4.1868e-01,  1.3941e-01, -5.2868e-02,\n",
       "         -6.8381e-01, -1.4484e-01,  1.4157e-01, -2.8386e-01, -3.1915e-01,\n",
       "          2.5259e-01, -4.1315e-01, -5.3317e-01,  6.1734e-01,  1.6682e-01,\n",
       "          1.4535e-01,  7.6629e-02, -1.2040e-01, -6.8597e-02,  7.3142e-02,\n",
       "          1.3690e-01, -1.5131e-01,  2.5109e-01],\n",
       "        [-1.0450e-01,  1.9464e-01,  9.5144e-02, -5.4255e-02,  1.2302e-01,\n",
       "         -4.8460e-02,  1.7855e-02,  3.3241e-01, -5.2025e-01,  6.9007e-02,\n",
       "         -4.7061e-01,  2.5531e-01, -9.7072e-03, -1.5550e-01, -1.4305e-01,\n",
       "         -1.7483e-01, -1.5172e-01, -1.3021e-01,  1.5043e-01,  2.4886e-02,\n",
       "          9.4057e-02,  2.1188e-01,  1.3729e-01,  7.1635e-01, -1.9683e-01,\n",
       "         -1.1800e-01, -1.7882e-02, -4.1987e-03],\n",
       "        [-9.4159e-03,  6.5463e-02, -8.0532e-03,  7.5100e-03, -9.9740e-02,\n",
       "         -1.1660e-01, -8.1505e-02, -1.0958e-01, -4.6637e-01,  3.3648e-01,\n",
       "         -3.6450e-01,  6.3877e-01,  1.1708e-01,  9.2621e-02, -1.3665e-01,\n",
       "         -3.7113e-01, -7.6961e-02,  6.4516e-01, -3.0300e-01, -1.9410e-01,\n",
       "         -3.6020e-02,  7.7695e-02, -2.6292e-02,  2.4939e-01, -2.7661e-01,\n",
       "          2.4470e-02,  1.1823e-02,  1.3075e-01],\n",
       "        [ 1.4111e-01,  2.1368e-01, -3.4640e-02,  4.5435e-02, -2.5631e-02,\n",
       "          3.4326e-01,  5.7901e-02,  4.3933e-01,  1.4214e-01,  2.1686e-01,\n",
       "          1.5085e-02, -4.5050e-02, -6.5515e-01,  6.6671e-01, -5.9490e-01,\n",
       "          1.3231e-01,  8.2242e-02,  2.9059e-01, -8.1368e-02,  2.6804e-01,\n",
       "          8.1046e-02,  2.3603e-01, -1.7284e-01,  8.2435e-02,  1.0895e-01,\n",
       "          2.7515e-01, -2.0046e-01,  2.0534e-01],\n",
       "        [ 1.0907e-01,  9.1669e-02,  1.5572e-01, -1.5167e-01,  1.1094e-01,\n",
       "          2.7086e-02,  1.4748e-01, -2.2750e-01,  1.6700e-01, -1.2921e-01,\n",
       "         -1.7065e-01, -4.0869e-02, -1.7144e-01,  2.6910e-01, -5.1795e-01,\n",
       "          2.9606e-02, -1.7496e-02,  1.9853e-01, -3.3096e-03, -7.4679e-02,\n",
       "          3.2607e-02,  8.3972e-04,  3.4643e-02, -3.4920e-02, -5.5654e-02,\n",
       "          1.0488e-01,  7.1189e-02,  1.0937e-01]], grad_fn=<SelectBackward0>)"
      ]
     },
     "execution_count": 20,
     "metadata": {},
     "output_type": "execute_result"
    }
   ],
   "source": [
    "out[10][0]"
   ]
  },
  {
   "cell_type": "markdown",
   "id": "c828b9f2",
   "metadata": {},
   "source": [
    "# Useful functions"
   ]
  },
  {
   "cell_type": "code",
   "execution_count": 12,
   "id": "09b9648d",
   "metadata": {},
   "outputs": [],
   "source": [
    "def show_image(tensor):\n",
    "    plt.imshow(tensor.detach().squeeze().numpy())"
   ]
  },
  {
   "cell_type": "code",
   "execution_count": 41,
   "id": "96b5375b",
   "metadata": {},
   "outputs": [],
   "source": [
    "from sklearn.cluster import AgglomerativeClustering"
   ]
  },
  {
   "cell_type": "code",
   "execution_count": 52,
   "id": "b3c97ed9",
   "metadata": {},
   "outputs": [
    {
     "data": {
      "text/plain": [
       "<matplotlib.image.AxesImage at 0x7f3c2c632530>"
      ]
     },
     "execution_count": 52,
     "metadata": {},
     "output_type": "execute_result"
    },
    {
     "data": {
      "image/png": "[encoded data removed]",
      "text/plain": [
       "<Figure size 640x480 with 1 Axes>"
      ]
     },
     "metadata": {},
     "output_type": "display_data"
    }
   ],
   "source": [
    "level = state[10,:,0].detach().numpy()\n",
    "\n",
    "clustering = AgglomerativeClustering(n_clusters=3, affinity='euclidean', linkage='ward')\n",
    "labels = clustering.fit_predict(level)\n",
    "\n",
    "plt.imshow(labels.reshape((7,7)))"
   ]
  },
  {
   "cell_type": "code",
   "execution_count": 76,
   "id": "f3251e45",
   "metadata": {},
   "outputs": [
    {
     "data": {
      "text/plain": [
       "0.39209372"
      ]
     },
     "execution_count": 76,
     "metadata": {},
     "output_type": "execute_result"
    }
   ],
   "source": [
    "np.abs(level.reshape((7,7,64))[0,3]- level.reshape((7,7,64))[2,1]).mean()"
   ]
  },
  {
   "cell_type": "code",
   "execution_count": 68,
   "id": "df684d02",
   "metadata": {},
   "outputs": [],
   "source": [
    "np.set_printoptions(suppress=True)"
   ]
  },
  {
   "cell_type": "code",
   "execution_count": 51,
   "id": "4b2dfded",
   "metadata": {},
   "outputs": [
    {
     "data": {
      "image/png": "[encoded data removed]",
      "text/plain": [
       "<Figure size 640x480 with 1 Axes>"
      ]
     },
     "metadata": {},
     "output_type": "display_data"
    }
   ],
   "source": [
    "show_image(corrupt[10])"
   ]
  },
  {
   "cell_type": "code",
   "execution_count": null,
   "id": "e74cddbf",
   "metadata": {},
   "outputs": [],
   "source": []
  }
 ],
 "metadata": {
  "kernelspec": {
   "display_name": "Python 3.10.6 ('venv')",
   "language": "python",
   "name": "python3"
  },
  "language_info": {
   "codemirror_mode": {
    "name": "ipython",
    "version": 3
   },
   "file_extension": ".py",
   "mimetype": "text/x-python",
   "name": "python",
   "nbconvert_exporter": "python",
   "pygments_lexer": "ipython3",
   "version": "3.10.6"
  },
  "vscode": {
   "interpreter": {
    "hash": "1a8cc1dc1050119f11ca3193e45f24ccadee6affd64b7d69979b584e8ca4c13e"
   }
  }
 },
 "nbformat": 4,
 "nbformat_minor": 5
}
